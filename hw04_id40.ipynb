{
  "nbformat": 4,
  "nbformat_minor": 0,
  "metadata": {
    "colab": {
      "provenance": []
    },
    "kernelspec": {
      "name": "python3",
      "display_name": "Python 3"
    },
    "language_info": {
      "name": "python"
    }
  },
  "cells": [
    {
      "cell_type": "markdown",
      "source": [
        "# **Lab Assignment 4**\n",
        "\n",
        "\n",
        "---\n",
        "\n",
        "\n",
        "  <p> Name: Maharaj Hossain Tanim <br> ID: 2215151040 <br> Section: 7(A2) <br> Course: Simulation and Modeling Lab <br> Course Code: CSE 413</p>\n",
        "\n",
        "\n",
        "---\n",
        "\n"
      ],
      "metadata": {
        "id": "vmRcMq_b3O6X"
      }
    },
    {
      "cell_type": "code",
      "source": [
        "#importing necessary libraries\n",
        "\n",
        "import numpy as np\n",
        "from sympy import Matrix\n",
        "import matplotlib.pyplot as plt\n",
        "import seaborn as sns\n",
        "import scipy.stats as stats"
      ],
      "metadata": {
        "id": "MEaOXViT329g"
      },
      "execution_count": 54,
      "outputs": []
    },
    {
      "cell_type": "code",
      "source": [
        "#randomly generate 50 valus from a normal distribution with a chosen mean (μ1 = 200) and standard deviation 6\n",
        "ran_values1 = np.random.normal(200, 6, 50)"
      ],
      "metadata": {
        "id": "Nt0Is8Xz4upn"
      },
      "execution_count": 55,
      "outputs": []
    },
    {
      "cell_type": "code",
      "source": [
        "#randomly generate 50 values from a normal distribution with a different mean (μ2 = 135) and standard deviation 7\n",
        "ran_values2 = np.random.normal(135, 7, 50)"
      ],
      "metadata": {
        "id": "aZAR9kk39mnm"
      },
      "execution_count": 56,
      "outputs": []
    },
    {
      "cell_type": "code",
      "source": [
        "#perform the two-sample t-test\n",
        "t_statistic, p_value = stats.ttest_ind(ran_values1, ran_values2, equal_var=True)"
      ],
      "metadata": {
        "id": "Xz6Ksa9K95JV"
      },
      "execution_count": 57,
      "outputs": []
    },
    {
      "cell_type": "code",
      "source": [
        "#calculate confidence interval for the difference of means\n",
        "mean_diff = np.mean(ran_values1) - np.mean(ran_values2)\n",
        "std_err = np.sqrt(np.var(ran_values1, ddof=1)/len(ran_values1) + np.var(ran_values2, ddof=1)/len(ran_values2))\n",
        "df = (std_err**4) / ((np.var(ran_values1, ddof=1)/len(ran_values1))**2 / (len(ran_values1)-1) + (np.var(ran_values2, ddof=1)/len(ran_values2))**2 / (len(ran_values2)-1))\n",
        "ci = stats.t.interval(0.95, df, loc=mean_diff, scale=std_err)"
      ],
      "metadata": {
        "id": "IfVtRSaz-afm"
      },
      "execution_count": 58,
      "outputs": []
    },
    {
      "cell_type": "code",
      "source": [
        "#display results\n",
        "print(f\"Sample 1 Mean: {np.mean(ran_values1):.2f}\")\n",
        "print(f\"Sample 2 Mean: {np.mean(ran_values2):.2f}\")\n",
        "print(f\"t-Statistic: {t_statistic:.2f}\")\n",
        "print(f\"Degrees of Freedom: {df:.2f}\")\n",
        "print(f\"p-Value: {p_value:.4f}\")\n",
        "print(f\"Confidence Interval of Mean Difference: [{ci[0]:.2f}, {ci[1]:.2f}]\")"
      ],
      "metadata": {
        "colab": {
          "base_uri": "https://localhost:8080/"
        },
        "id": "ugrJHogq_X6u",
        "outputId": "718e09f9-9867-4f6c-ec7b-6b1c30f2ba99"
      },
      "execution_count": 59,
      "outputs": [
        {
          "output_type": "stream",
          "name": "stdout",
          "text": [
            "Sample 1 Mean: 199.41\n",
            "Sample 2 Mean: 134.28\n",
            "t-Statistic: 59.04\n",
            "Degrees of Freedom: 97.88\n",
            "p-Value: 0.0000\n",
            "Confidence Interval of Mean Difference: [62.94, 67.32]\n"
          ]
        }
      ]
    },
    {
      "cell_type": "code",
      "source": [
        "#Conclusion\n",
        "alpha = 0.05  # Significance level\n",
        "if p_value < alpha:\n",
        "    print(\"Reject the null hypothesis. The means of the two samples are significantly different.\")\n",
        "else:\n",
        "    print(\"Fail to reject the null hypothesis. The means of the two samples are not significantly different.\")"
      ],
      "metadata": {
        "colab": {
          "base_uri": "https://localhost:8080/"
        },
        "id": "uHU_aAXg_kwm",
        "outputId": "90f2fe7e-9615-45c1-bad2-a91663c8ddf2"
      },
      "execution_count": 60,
      "outputs": [
        {
          "output_type": "stream",
          "name": "stdout",
          "text": [
            "Reject the null hypothesis. The means of the two samples are significantly different.\n"
          ]
        }
      ]
    },
    {
      "cell_type": "code",
      "source": [
        "#Visualize the data\n",
        "plt.figure(figsize=(6, 4))\n",
        "plt.bar(['Sample 1', 'Sample 2'], [np.mean(ran_values1), np.mean(ran_values2)], color=['crimson', 'darkgreen'], alpha=0.7)\n",
        "plt.errorbar(['Sample 1', 'Sample 2'], [np.mean(ran_values1), np.mean(ran_values2)], yerr=[np.std(ran_values1, ddof=1), np.std(ran_values2, ddof=1)], fmt='k_', capsize=5)\n",
        "plt.title('Comparison of Sample Means')\n",
        "plt.ylabel('Mean Value')\n",
        "plt.grid(True)\n",
        "plt.show()"
      ],
      "metadata": {
        "colab": {
          "base_uri": "https://localhost:8080/",
          "height": 391
        },
        "id": "6xihfwQV_xUU",
        "outputId": "7f69993e-09ff-46cb-d5e6-d9f44908f6d1"
      },
      "execution_count": 61,
      "outputs": [
        {
          "output_type": "display_data",
          "data": {
            "text/plain": [
              "<Figure size 600x400 with 1 Axes>"
            ],
            "image/png": "[encoded data removed]"
          },
          "metadata": {}
        }
      ]
    },
    {
      "cell_type": "markdown",
      "source": [
        "\n",
        "\n",
        "---\n",
        "\n"
      ],
      "metadata": {
        "id": "arzN5ZHV_87F"
      }
    }
  ]
}