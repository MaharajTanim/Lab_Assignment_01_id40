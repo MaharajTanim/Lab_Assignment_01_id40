{
  "nbformat": 4,
  "nbformat_minor": 0,
  "metadata": {
    "colab": {
      "provenance": []
    },
    "kernelspec": {
      "name": "python3",
      "display_name": "Python 3"
    },
    "language_info": {
      "name": "python"
    }
  },
  "cells": [
    {
      "cell_type": "markdown",
      "source": [
        "# **Lab Assignment 2**\n",
        "<p> Name: Maharaj Hossain Tanim <br> ID: 2215151040 <br> Section: 7(A2) Course: Simulation and Modeling Lab <br> Course Code: CSE 413</p>\n"
      ],
      "metadata": {
        "id": "SWY9I3mGKuVN"
      }
    },
    {
      "cell_type": "code",
      "source": [
        "# importing necessary libraries\n",
        "\n",
        "import numpy as np\n",
        "from sympy import Matrix\n",
        "import matplotlib.pyplot as plt\n",
        "import seaborn as sns"
      ],
      "metadata": {
        "id": "fcnDMCjIKBef"
      },
      "execution_count": 19,
      "outputs": []
    },
    {
      "cell_type": "code",
      "source": [
        "# With fixed seed\n",
        "np.random.seed(10)\n",
        "seeded_matrix = np.random.randint(1, 51, (3, 3))\n",
        "print(\"Matrix with fixed seed:\\n\", seeded_matrix)\n",
        "\n",
        "# Without fixed seed\n",
        "np.random.seed(None)\n",
        "non_seeded_matrix = np.random.randint(1, 51, (3, 3))\n",
        "print(\"\\nMatrix without fixed seed:\\n\", non_seeded_matrix)"
      ],
      "metadata": {
        "colab": {
          "base_uri": "https://localhost:8080/"
        },
        "id": "qUc5urChIfmk",
        "outputId": "268747fe-ddf1-4748-8937-7e77a06d5b7f"
      },
      "execution_count": 24,
      "outputs": [
        {
          "output_type": "stream",
          "name": "stdout",
          "text": [
            "Matrix with fixed seed:\n",
            " [[10 37 16]\n",
            " [ 1 50 29]\n",
            " [26 30 49]]\n",
            "\n",
            "Matrix without fixed seed:\n",
            " [[44 13 31]\n",
            " [30 49 47]\n",
            " [11 42  4]]\n"
          ]
        }
      ]
    },
    {
      "cell_type": "markdown",
      "source": [
        "# **Differences between Seeded and Non-seeded outputs**\n",
        "---\n",
        "<p>-> In first matrix \"np.random.seed(10)\" ensures that the random numbers that was generated first time will remain same each time the code runs. <br> ->In the second matrix \"np.random.seed(None)\" is opposite of the previous matrix. It generates randam value each time the code runs.<br> -> Why seed value 10? answer for that is any integer can be used as seed. It just ensure the same random sequance when used. Different seed values will produce different sequences of random numbers.</p>\n",
        "\n",
        "\n",
        "\n",
        "---\n",
        "\n",
        "\n"
      ],
      "metadata": {
        "id": "vmuiJwP0NncY"
      }
    }
  ]
}